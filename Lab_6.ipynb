{
 "cells": [
  {
   "cell_type": "markdown",
   "metadata": {},
   "source": [
    "Lab 6 Group Project"
   ]
  },
  {
   "cell_type": "code",
   "execution_count": 2,
   "metadata": {},
   "outputs": [
    {
     "name": "stdin",
     "output_type": "stream",
     "text": [
      "Whats your name?  ethan\n",
      "What is your age?  12\n",
      "How many inches tall are you? 66\n"
     ]
    },
    {
     "name": "stdout",
     "output_type": "stream",
     "text": [
      "ethan can not ride the roller coaster\n"
     ]
    }
   ],
   "source": [
    "name = input(\"Whats your name? \")\n",
    "age = input(\"What is your age? \")\n",
    "Height=input(\"How many inches tall are you?\")\n",
    "age=int(age)\n",
    "Height=int(Height)\n",
    "if age>12 and Height>55:\n",
    "    print(name ,\"can ride the roller coaster\")\n",
    "else:\n",
    "    print(name , \"can not ride the roller coaster\")"
   ]
  },
  {
   "cell_type": "code",
   "execution_count": null,
   "metadata": {},
   "outputs": [],
   "source": []
  }
 ],
 "metadata": {
  "kernelspec": {
   "display_name": "Python 3",
   "language": "python",
   "name": "python3"
  },
  "language_info": {
   "codemirror_mode": {
    "name": "ipython",
    "version": 3
   },
   "file_extension": ".py",
   "mimetype": "text/x-python",
   "name": "python",
   "nbconvert_exporter": "python",
   "pygments_lexer": "ipython3",
   "version": "3.8.3"
  }
 },
 "nbformat": 4,
 "nbformat_minor": 4
}
